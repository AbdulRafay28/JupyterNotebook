{
 "cells": [
  {
   "cell_type": "markdown",
   "id": "2d603398",
   "metadata": {},
   "source": [
    "# Data Science Tools and EcoSystem\n"
   ]
  },
  {
   "cell_type": "markdown",
   "id": "e998196d",
   "metadata": {},
   "source": [
    "In this notebook, Data Science Tools and Ecosystem are summarized.\n",
    "\n"
   ]
  },
  {
   "cell_type": "markdown",
   "id": "7b70823e",
   "metadata": {},
   "source": [
    "**Objectives:**\n"
   ]
  },
  {
   "cell_type": "markdown",
   "id": "c17352c6",
   "metadata": {},
   "source": [
    "- Data Management : Collecting, persisting, and retrieving data securely, efficiently and cost effectively.\n",
    "- Data integration and Transformation : Saves data in a central repository (ETL).\n",
    "- Data Visualization : Graphical representation of data and information.\n",
    "- Model Deployment : Integrating a model into production environment.\n",
    "- Execution Environment : Has libraries for code compiling and system resources to execute and verify code."
   ]
  },
  {
   "cell_type": "markdown",
   "id": "2b8872e6",
   "metadata": {},
   "source": [
    "Some of the popular languages that Data Scientists use are:\n",
    "1) Python.\n",
    "2) R.\n",
    "3) SQL.\n",
    "4) Java."
   ]
  },
  {
   "cell_type": "markdown",
   "id": "a654eb46",
   "metadata": {},
   "source": [
    "Some of the commonly used libraries used by Data Scientists include:\n",
    "1) Pandas\n",
    "2) Numpy\n",
    "3) Matplotlib\n",
    "4) Scikit-learn\n",
    "5) Tensor flow"
   ]
  },
  {
   "cell_type": "markdown",
   "id": "ff2130af",
   "metadata": {},
   "source": [
    "|Data Science tools|\n",
    "|------------------|\n",
    "|Rstudio|\n",
    "|Apache Spark|\n",
    "|Tensor Flow|\n",
    "\n",
    "\n"
   ]
  },
  {
   "cell_type": "markdown",
   "id": "1a5d6187",
   "metadata": {},
   "source": [
    "### Below are a few examples of evaluating arithmetic expressions in Python.\n"
   ]
  },
  {
   "cell_type": "code",
   "execution_count": 4,
   "id": "d5ec7bdc",
   "metadata": {},
   "outputs": [
    {
     "name": "stdout",
     "output_type": "stream",
     "text": [
      "17.0\n"
     ]
    }
   ],
   "source": [
    "a = (3*4)+5.\n",
    "print(a)"
   ]
  },
  {
   "cell_type": "markdown",
   "id": "5d213b5d",
   "metadata": {},
   "source": [
    "Converting Minutes into hours:\n"
   ]
  },
  {
   "cell_type": "code",
   "execution_count": 5,
   "id": "4ffc04bd",
   "metadata": {},
   "outputs": [
    {
     "name": "stdout",
     "output_type": "stream",
     "text": [
      "3.3333333333333335  hours\n"
     ]
    }
   ],
   "source": [
    "x = 200/60\n",
    "print(x, \" hours\")\n"
   ]
  },
  {
   "cell_type": "markdown",
   "id": "b30a03c4",
   "metadata": {},
   "source": [
    "## Author:  ##\n",
    "\n",
    "Muhammad Abdul Rafay Shaikh."
   ]
  },
  {
   "cell_type": "code",
   "execution_count": null,
   "id": "68f50350",
   "metadata": {},
   "outputs": [],
   "source": []
  }
 ],
 "metadata": {
  "kernelspec": {
   "display_name": "Python 3 (ipykernel)",
   "language": "python",
   "name": "python3"
  },
  "language_info": {
   "codemirror_mode": {
    "name": "ipython",
    "version": 3
   },
   "file_extension": ".py",
   "mimetype": "text/x-python",
   "name": "python",
   "nbconvert_exporter": "python",
   "pygments_lexer": "ipython3",
   "version": "3.10.9"
  }
 },
 "nbformat": 4,
 "nbformat_minor": 5
}
